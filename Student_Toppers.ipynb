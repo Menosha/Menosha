{
  "nbformat": 4,
  "nbformat_minor": 0,
  "metadata": {
    "colab": {
      "name": "Student_Toppers",
      "provenance": [],
      "collapsed_sections": [],
      "authorship_tag": "ABX9TyOF4lqXoL2zszu9SR6J5fBc",
      "include_colab_link": true
    },
    "kernelspec": {
      "name": "python3",
      "display_name": "Python 3"
    },
    "language_info": {
      "name": "python"
    }
  },
  "cells": [
    {
      "cell_type": "markdown",
      "metadata": {
        "id": "view-in-github",
        "colab_type": "text"
      },
      "source": [
        "<a href=\"https://colab.research.google.com/github/Menosha/Menosha/blob/main/Student_Toppers.ipynb\" target=\"_parent\"><img src=\"https://colab.research.google.com/assets/colab-badge.svg\" alt=\"Open In Colab\"/></a>"
      ]
    },
    {
      "cell_type": "markdown",
      "source": [
        "The attached csv file contains the marks scored by students in a class, in different\n",
        "subjects. Each row has the marks scored by the student in the subjects of Maths,\n",
        "Biology, English, Physics, Chemistry, and Hindi. Write a python program, without using\n",
        "pandas, to efficiently\n",
        "1. Find the topper in each subject.\n",
        "2. Find the top 3 students in the class, based on their marks in all subjects"
      ],
      "metadata": {
        "id": "NW-7ZbuwqeHH"
      }
    },
    {
      "cell_type": "code",
      "execution_count": 6,
      "metadata": {
        "colab": {
          "base_uri": "https://localhost:8080/"
        },
        "id": "BEe8UKreOKUY",
        "outputId": "b474b83a-9bc6-4351-afa2-a4c76f8233f6"
      },
      "outputs": [
        {
          "output_type": "stream",
          "name": "stdout",
          "text": [
            "Topper in Maths is Manasa\n",
            "Topper in Biology is Sreeja\n",
            "Topper in English is Praneeta\n",
            "Topper in Physics is Sagar\n",
            "Topper in Physics is Mehuli\n",
            "Topper in Chemistry is Manasa\n",
            "Topper in Chemistry is Vivek\n",
            "Topper in Hindi is Aravind\n",
            "Best students in the class are:\n",
            "First rank: Manodhar \n",
            "Second Rank: Bhavana \n",
            "Third rank: Sourav\n"
          ]
        }
      ],
      "source": [
        "import csv\n",
        "file_to_open=\"/content/Student_marks_list.csv\"\n",
        "with open(file_to_open, \"r\") as this_csv_file:\n",
        "    this_csv_reader = csv.reader(this_csv_file)\n",
        "    max_mark_math=[]\n",
        "    max_mark_bio=[]\n",
        "    max_mark_eng=[]\n",
        "    max_mark_phy=[]\n",
        "    max_mark_che=[]\n",
        "    max_mark_hindi=[]\n",
        "    name=[]\n",
        "    for i in this_csv_reader:\n",
        "        max_mark_math.append(i[1])\n",
        "        max_mark_bio.append(i[2])\n",
        "        max_mark_eng.append(i[3])\n",
        "        max_mark_phy.append(i[4])\n",
        "        max_mark_che.append(i[5])\n",
        "        max_mark_hindi.append(i[6])\n",
        "        name.append(i[0])\n",
        "        s=name[1:len(name)+1]\n",
        "      \n",
        "\n",
        "#topper in maths\n",
        "i1=[item for item in max_mark_math if item.isdigit()] # i1 - list of math marks in string\n",
        "m=[int(x) for x in i1]                                # m - list of math marks in integers\n",
        "x=max(m)                                              # x - maximum mark in m\n",
        "y=[i for i, j in enumerate(m) if j==x]                # y - list of indices of the maximum marks in m\n",
        "for q in y:\n",
        "  print(\"Topper in Maths is\",s[q])\n",
        "\n",
        "#topper in biology\n",
        "i2=[item for item in max_mark_bio if item.isdigit()] # i2 - list of biology marks in string\n",
        "b=[int(x) for x in i2]                               # b - list of biology marks in integers\n",
        "x1=max(b)                                            # x1 - maximum mark in b\n",
        "y1=[i for i, j in enumerate(b) if j==x1]             # y1 - list of indices of the maximum marks in b\n",
        "for q in y1:\n",
        "  print(\"Topper in Biology is\",s[q])\n",
        "\n",
        "#topper in english\n",
        "i3=[item for item in max_mark_eng if item.isdigit()] # i3 - list of english marks in string\n",
        "en=[int(x) for x in i3]                              # en - list of english marks in integers\n",
        "x2=max(en)                                           # x2 - maximum marks in en\n",
        "y2=[i for i, j in enumerate(en) if j==x2]            # y2 - list of indices of the maximum marks in en\n",
        "for q in y2:\n",
        "  print(\"Topper in English is\",s[q])\n",
        "\n",
        "#topper in physics\n",
        "i4=[item for item in max_mark_phy if item.isdigit()] # i4 - list of physics marks in string\n",
        "p=[int(x) for x in i4]                               # p - list of physics marks in integers\n",
        "x3=max(p)                                            # x3 - maximum marks in p\n",
        "y3=[i for i, j in enumerate(p) if j==x3]             # y3 - list if indices of the maximum marks in p\n",
        "for q in y3:\n",
        "  print(\"Topper in Physics is\",s[q])\n",
        "\n",
        "#topper in chemistry\n",
        "i5=[item for item in max_mark_che if item.isdigit()] # i5 - list of chemistry marks in string\n",
        "c=[int(x) for x in i5]                               # c - list of chemistry marks in integers\n",
        "x4=max(c)                                            # x4 - maximum marks in c\n",
        "y4=[i for i, j in enumerate(c) if j==x4]             # y4 - list of indices of the maximum marks in c\n",
        "for q in y4:\n",
        "  print(\"Topper in Chemistry is\",s[q])\n",
        "\n",
        "#topper in hindi\n",
        "i6=[item for item in max_mark_hindi if item.isdigit()] # i6 - list of hindi marks in string\n",
        "h=[int(x) for x in i6]                                 # h - list of hindi marks in integers\n",
        "x5=max(h)                                              # x5 - maximum marks in h\n",
        "y5=[i for i, j in enumerate(h) if j==x5]               # y5 - list of indices of the maximum marks in h\n",
        "for q in y5:\n",
        "    print(\"Topper in Hindi is\",s[q])\n",
        "\n",
        "\n",
        "#list of total marks of each student\n",
        "l1=[]\n",
        "for i in range(0,len(s)):\n",
        "  sum=m[i]+b[i]+en[i]+c[i]+p[i]+h[i]\n",
        "  l1.append(sum)\n",
        "\n",
        "#Best students in the class \n",
        "thirdlargest=l1[0]\n",
        "seclargest=l1[0]\n",
        "largest=l1[0]\n",
        "for i in range(len(l1)):\n",
        "  if l1[i]>largest:\n",
        "    largest=l1[i]\n",
        "for i in range(len(l1)):\n",
        "  if l1[i]>seclargest and l1[i]!=largest:\n",
        "    seclargest=l1[i]\n",
        "for i in range(len(l1)):\n",
        "  if l1[i]>thirdlargest and l1[i]!=seclargest and l1[i]!=largest:\n",
        "    thirdlargest=l1[i]\n",
        "\n",
        "lar1=l1.index(largest)\n",
        "lar2=l1.index(seclargest)\n",
        "lar3=l1.index(thirdlargest)\n",
        "\n",
        "print(\"Best students in the class are:\\n\"+\"First rank:\",s[lar1],\"\\nSecond Rank:\",s[lar2],\"\\nThird rank:\",s[lar3])\n",
        "\n",
        "\n",
        "  \n",
        "\n",
        "\n",
        "  \n",
        "\n",
        "\n",
        "\n",
        "\n",
        "\n",
        "\n",
        "\n",
        "\n",
        "\n",
        "\n"
      ]
    },
    {
      "cell_type": "markdown",
      "source": [
        "The complexity of the algorithm in Big-O notation is O(n)"
      ],
      "metadata": {
        "id": "pP-jhaKaLmsw"
      }
    }
  ]
}